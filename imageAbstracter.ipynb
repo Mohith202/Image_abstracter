import os
from rembg import remove

os.makedirs('original',exist_ok=True)
os.makedirs('masked',exist_ok=True)

output="masked/mask.png"

with open(output,'wb') as f:
  img=open("/content/original/image.png","rb").read()
  mask=remove(img)
  f.write(mask)
